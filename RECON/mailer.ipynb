{
 "cells": [
  {
   "cell_type": "code",
   "execution_count": 3,
   "id": "a07e2366-04a3-4574-9ac1-8939529ca48b",
   "metadata": {},
   "outputs": [
    {
     "name": "stdout",
     "output_type": "stream",
     "text": [
      "Email sent to ritik904191@gmail.com\n"
     ]
    }
   ],
   "source": [
    "import smtplib\n",
    "from email.mime.text import MIMEText\n",
    "from email.mime.multipart import MIMEMultipart\n",
    "\n",
    "# Email configuration\n",
    "smtp_server = \"smtp.gmail.com\"\n",
    "smtp_port = 587  # or the appropriate port for your email provider's SMTP server\n",
    "sender_email = \"rishubsharma81@gmail.com\"\n",
    "sender_password = \" vave hdqf vhrt slre\"\n",
    "subject = \"Your Email Subject\"\n",
    "body = \"dd\"\n",
    "\n",
    "# Recipients list using 1-based indexing\n",
    "recipients = [\"ritik904191@gmail.com\"]\n",
    "\n",
    "def send_email(to_address, subject, body):\n",
    "    msg = MIMEMultipart()\n",
    "    msg[\"From\"] = sender_email\n",
    "    msg[\"To\"] = to_address\n",
    "    msg[\"Subject\"] = subject\n",
    "    msg.attach(MIMEText(body, \"plain\"))\n",
    "\n",
    "    try:\n",
    "        server = smtplib.SMTP(smtp_server, smtp_port)\n",
    "        server.starttls()\n",
    "        server.login(sender_email, sender_password)\n",
    "        server.sendmail(sender_email, to_address, msg.as_string())\n",
    "        server.quit()\n",
    "        print(f\"Email sent to {to_address}\")\n",
    "    except Exception as e:\n",
    "        print(f\"Failed to send email to {to_address}. Error: {e}\")\n",
    "\n",
    "# Sending emails to recipients using 1-based indexing\n",
    "for i in range(1, len(recipients) + 1):\n",
    "    to_address = recipients[i - 1]\n",
    "    send_email(to_address, subject, body)"
   ]
  },
  {
   "cell_type": "code",
   "execution_count": null,
   "id": "e2f485c4-2eab-480d-ae37-43091159c503",
   "metadata": {},
   "outputs": [],
   "source": []
  }
 ],
 "metadata": {
  "kernelspec": {
   "display_name": "Python 3 (ipykernel)",
   "language": "python",
   "name": "python3"
  },
  "language_info": {
   "codemirror_mode": {
    "name": "ipython",
    "version": 3
   },
   "file_extension": ".py",
   "mimetype": "text/x-python",
   "name": "python",
   "nbconvert_exporter": "python",
   "pygments_lexer": "ipython3",
   "version": "3.11.4"
  }
 },
 "nbformat": 4,
 "nbformat_minor": 5
}
